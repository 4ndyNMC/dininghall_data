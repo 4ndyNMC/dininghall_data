{
 "cells": [
  {
   "cell_type": "code",
   "execution_count": 25,
   "metadata": {},
   "outputs": [],
   "source": [
    "import matplotlib.pyplot as plt\n",
    "import matplotlib\n",
    "from datetime import datetime\n",
    "import re"
   ]
  },
  {
   "cell_type": "code",
   "execution_count": 3,
   "metadata": {},
   "outputs": [],
   "source": [
    "filename = 'formatted_' + input() + '.txt'"
   ]
  },
  {
   "cell_type": "code",
   "execution_count": 4,
   "metadata": {},
   "outputs": [],
   "source": [
    "# retrieve data from data.txt\n",
    "raw_data = open('data.txt', 'r')\n",
    "formatted_data = open(filename, 'w')\n",
    "\n",
    "# format data into array and write to formatted_data\n",
    "for line in raw_data:\n",
    "    arr = line.split('\\t')\n",
    "    if len(arr) == 4 and 'Posted' not in arr:\n",
    "        ln = arr[0] + ' | ' + arr[-1][:-1] + '\\n'\n",
    "        formatted_data.write(ln)\n",
    "formatted_data.close()"
   ]
  },
  {
   "cell_type": "code",
   "execution_count": 10,
   "metadata": {},
   "outputs": [
    {
     "name": "stdout",
     "output_type": "stream",
     "text": [
      "{'Crossroads': 107, 'Cafe 3': 21, 'Clark Kerr': 6, 'Foothill': 1}\n"
     ]
    },
    {
     "data": {
      "image/png": "[encoded data removed]",
      "text/plain": [
       "<Figure size 432x288 with 1 Axes>"
      ]
     },
     "metadata": {
      "needs_background": "light"
     },
     "output_type": "display_data"
    }
   ],
   "source": [
    "data = open(filename, 'r')\n",
    "counts = {'Crossroads': 0, 'Cafe 3': 0, 'Clark Kerr': 0, 'Foothill': 0}\n",
    "\n",
    "# count visits to each dininghall\n",
    "for line in data:\n",
    "    dininghall = line.split('|')[1][:-1]\n",
    "    if 'Crossroad' in dininghall: counts['Crossroads'] += 1\n",
    "    if 'Cafe' in dininghall: counts['Cafe 3'] += 1\n",
    "    if 'Clark' in dininghall: counts['Clark Kerr'] += 1\n",
    "    if 'Foothill' in dininghall: counts['Foothill'] += 1\n",
    "print(counts)\n",
    "\n",
    "data.close()\n",
    "\n",
    "# display counts in bar chart\n",
    "plt.bar(*zip(*counts.items()))\n",
    "plt.show()"
   ]
  },
  {
   "cell_type": "code",
   "execution_count": 61,
   "metadata": {},
   "outputs": [
    {
     "data": {
      "text/plain": [
       "[<matplotlib.lines.Line2D at 0x1f9785abac0>]"
      ]
     },
     "execution_count": 61,
     "metadata": {},
     "output_type": "execute_result"
    },
    {
     "data": {
      "image/png": "[encoded data removed]",
      "text/plain": [
       "<Figure size 432x288 with 1 Axes>"
      ]
     },
     "metadata": {
      "needs_background": "light"
     },
     "output_type": "display_data"
    }
   ],
   "source": [
    "data = open(filename, 'r')\n",
    "times = []\n",
    "freq = [0 for i in range(23)]\n",
    "\n",
    "# collect times from data\n",
    "for line in data:\n",
    "    datestring = re.findall(r'(\\d?\\d):\\d\\d:\\d\\d', line)[0] + ' ' + re.findall(r'AM|PM', line)[0]\n",
    "    dt = datetime.strptime(datestring, '%I %p')\n",
    "    times.append(dt)\n",
    "    freq[dt.hour] += 1\n",
    "    \n",
    "plt.xlabel('Hour')\n",
    "plt.ylabel('Number of swipes in hour')\n",
    "plt.plot([i for i in range(23)], freq)"
   ]
  }
 ],
 "metadata": {
  "interpreter": {
   "hash": "2db524e06e9f5f4ffedc911c917cb75e12dbc923643829bf417064a77eb14d37"
  },
  "kernelspec": {
   "display_name": "Python 3.8.3 64-bit",
   "name": "python3"
  },
  "language_info": {
   "codemirror_mode": {
    "name": "ipython",
    "version": 3
   },
   "file_extension": ".py",
   "mimetype": "text/x-python",
   "name": "python",
   "nbconvert_exporter": "python",
   "pygments_lexer": "ipython3",
   "version": "3.8.3"
  },
  "orig_nbformat": 4
 },
 "nbformat": 4,
 "nbformat_minor": 2
}
